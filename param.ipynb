{
 "cells": [
  {
   "cell_type": "code",
   "execution_count": 1,
   "id": "bd2aae7e-1310-4ed6-8b0e-d2533d78ca68",
   "metadata": {},
   "outputs": [],
   "source": [
    "from df_grid_display import show_excel_like "
   ]
  },
  {
   "cell_type": "code",
   "execution_count": 2,
   "id": "b029a782-5227-471e-8bbe-28aab80b1c6f",
   "metadata": {},
   "outputs": [],
   "source": [
    "# Import Data Profile Excel file name 'ProcessParasProfileUTL'\n",
    "import pandas as pd\n",
    "\n",
    "# Specify the path to your Excel file and the sheet names to import\n",
    "#excel_path = 'your_excel_file.xlsx'\n",
    "#sheet_names = ['Sheet1', 'Sheet2']  # Replace with your sheet names\n",
    "excel_path = 'PPP.xlsx'\n",
    "sheet_names = ['PPCDataUTL', 'ProcessParasProfileUTL']  # Replace with your sheet names\n",
    "\n",
    "# Read the specified sheets into a dictionary of DataFrames\n",
    "dfs2 = pd.read_excel(\n",
    "    excel_path,\n",
    "    sheet_name=sheet_names,\n",
    "    engine='openpyxl'  # Required for .xlsx files\n",
    ")\n",
    "\n",
    "# Access DataFrames using the sheet names as keys\n",
    "# Example:\n",
    "# df_sheet1 = dfs['Sheet1']\n",
    "# df_sheet2 = dfs['Sheet2']\n",
    "df4 = dfs2['ProcessParasProfileUTL']"
   ]
  },
  {
   "cell_type": "code",
   "execution_count": 3,
   "id": "56f916b8-3da2-4dd6-b7ed-bd3a3dfa29b9",
   "metadata": {},
   "outputs": [],
   "source": [
    "import os\n",
    "\n",
    "# Set the path to your folder containing Excel files\n",
    "folder_path = 'myfolder'\n",
    "\n",
    "# Initialize empty DataFrames to store data from all files\n",
    "df3 = pd.DataFrame()\n",
    "\n",
    "# Loop through each file in the folder\n",
    "for filename in os.listdir(folder_path):\n",
    "    if filename.endswith('.xlsx'):  # Process only .xlsx files\n",
    "        excel_path = os.path.join(folder_path, filename)\n",
    "        \n",
    "        try:\n",
    "            # Read both sheets from the Excel file\n",
    "            dfs2 = pd.read_excel(\n",
    "                excel_path,\n",
    "                sheet_name=['PPCDataUTL', 'ProcessParasProfileUTL'],\n",
    "                engine='openpyxl'\n",
    "            )\n",
    "            \n",
    "            # Append data to df3 and df4\n",
    "            df3 = pd.concat([df3, dfs2['PPCDataUTL']], axis=0)\n",
    "            \n",
    "        except Exception as e:\n",
    "            print(f\"Error reading file {filename}: {e}\")\n",
    "            continue\n",
    "\n",
    "# Optional: If you want to reset the index after concatenation\n",
    "df3.reset_index(drop=True, inplace=True)\n",
    "\n",
    "# print(\"Data has been read from all files and combined into df3 and df4.\")"
   ]
  },
  {
   "cell_type": "code",
   "execution_count": 4,
   "id": "027fabcc-766a-440d-b476-5647ca5aa57b",
   "metadata": {},
   "outputs": [],
   "source": [
    "# Clean 'ProcessParasProfileUTL' sheet on Duplicated column name\n",
    "# Column index to use (e.g., column 0 = 'A')\n",
    "column_index = 5\n",
    "\n",
    "# Extract values from the specified column (all rows)\n",
    "column_values = df4.iloc[:, column_index].values  \n",
    "\n",
    "# Create new DataFrame with these values as column names\n",
    "new_df4 = pd.DataFrame(columns=column_values)\n",
    "\n",
    "# Convert all columns in the new DataFrame to float32 (empty columns still need a data type)\n",
    "new_df4 = new_df4.astype('float32')\n",
    "\n",
    "# Clean ProcessParasProfileUTL sheet on Duplicated column name\n",
    "new_df4 = new_df4.loc[:, ~new_df4.columns.duplicated()]"
   ]
  },
  {
   "cell_type": "code",
   "execution_count": 5,
   "id": "d8967a6e-127d-4553-b11a-6642ea608ca1",
   "metadata": {},
   "outputs": [],
   "source": [
    "#combined_cols = pd.Index(df3.columns).append(new_df4.columns)\n",
    "# Combine DataFrames vertically\n",
    "combined_df = pd.concat([df3, new_df4], ignore_index=True)"
   ]
  },
  {
   "cell_type": "code",
   "execution_count": 6,
   "id": "cafccc8a-df6a-4299-9e85-529fd2952774",
   "metadata": {},
   "outputs": [],
   "source": [
    "# Initialize an empty dictionary\n",
    "parameter = {}\n",
    "\n",
    "# Split the string into key-value pairs\n",
    "def get_parameter(s):\n",
    "    pairs = s.split(',')\n",
    "    \n",
    "    # Initialize an empty dictionary\n",
    "    parameter = {}\n",
    "    \n",
    "    # Process each pair and convert to integers\n",
    "    for pair in pairs:\n",
    "        key_str, value_str = pair.split(':')\n",
    "        key = int(key_str)\n",
    "        value = int(value_str)\n",
    "        parameter[key] = value\n",
    "    \n",
    "    # Print the resulting dictionary\n",
    "    return(parameter)"
   ]
  },
  {
   "cell_type": "code",
   "execution_count": 7,
   "id": "46f82c43-0afc-478b-9c8a-c64db903fab2",
   "metadata": {},
   "outputs": [],
   "source": [
    "# Convert the parameter values to float and prepare a row\n",
    "row_data = {str(key): float(value) for key, value in parameter.items() if str(key) in combined_df.columns}"
   ]
  },
  {
   "cell_type": "code",
   "execution_count": 8,
   "id": "ebc6e6e8-92d9-464b-aec9-e7ad98a7af84",
   "metadata": {},
   "outputs": [],
   "source": [
    "# Split the string into key-value pairs\n",
    "def get_parameter(s):\n",
    "    pairs = s.split(',')\n",
    "    \n",
    "    # Initialize an empty dictionary\n",
    "    parameter = {}\n",
    "    \n",
    "    # Process each pair and convert to integers\n",
    "    for pair in pairs:\n",
    "        key_str, value_str = pair.split(':')\n",
    "        key = int(key_str)\n",
    "        if value_str != 'System.Byte[]':   # Skip key_str when value_str is undefined !!!!\n",
    "            value = int(value_str)\n",
    "            parameter[key] = value\n",
    "    \n",
    "    return(parameter)"
   ]
  },
  {
   "cell_type": "code",
   "execution_count": 9,
   "id": "5223902b-cf03-4fb6-95d2-31d158f430cd",
   "metadata": {},
   "outputs": [
    {
     "name": "stderr",
     "output_type": "stream",
     "text": [
      "Updating DataFrame rows: 100%|████████████████████████████████████████████████████| 1000/1000 [00:03<00:00, 250.54it/s]\n"
     ]
    }
   ],
   "source": [
    "from tqdm import tqdm\n",
    "\n",
    "#df3.iloc[:, 4] = df3.iloc[:, 4].astype('string')\n",
    "\n",
    "# Update all rows in the DataFrame with values from the 'parameter' dictionary\n",
    "for row_index in tqdm(combined_df.index, desc=\"Updating DataFrame rows\"):\n",
    "    parameter = get_parameter(df3.iloc[row_index, 4])\n",
    "    for col in combined_df.columns:\n",
    "        if col in parameter:\n",
    "            combined_df.iloc[row_index, combined_df.columns.get_loc(col)] = parameter[col]"
   ]
  },
  {
   "cell_type": "code",
   "execution_count": 10,
   "id": "b1d3cf49-35c8-41fc-98f4-67d531e05b1c",
   "metadata": {},
   "outputs": [],
   "source": [
    "combined_df.to_csv('output.csv', index=False)"
   ]
  },
  {
   "cell_type": "code",
   "execution_count": 11,
   "id": "89b19398-4210-46d7-bb44-89155a17f521",
   "metadata": {},
   "outputs": [],
   "source": [
    "#show_excel_like(combined_df, width='1000px', height='400px')"
   ]
  },
  {
   "cell_type": "code",
   "execution_count": 12,
   "id": "1f635c67-4e29-4def-bbb1-a444160b40e7",
   "metadata": {},
   "outputs": [],
   "source": [
    "#print (get_parameter(df3.iloc[999, 4]))"
   ]
  },
  {
   "cell_type": "code",
   "execution_count": 13,
   "id": "0f200cad-7c07-46d7-96c9-88617ee77cc1",
   "metadata": {},
   "outputs": [
    {
     "name": "stdout",
     "output_type": "stream",
     "text": [
      "<class 'pandas.core.frame.DataFrame'>\n",
      "RangeIndex: 1000 entries, 0 to 999\n",
      "Data columns (total 59 columns):\n",
      " #   Column        Non-Null Count  Dtype         \n",
      "---  ------        --------------  -----         \n",
      " 0   EquipOpn      1000 non-null   object        \n",
      " 1   EquipID       1000 non-null   object        \n",
      " 2   ULotID        862 non-null    object        \n",
      " 3   Recipe        1000 non-null   object        \n",
      " 4   Parameter     1000 non-null   object        \n",
      " 5   CreateTime    1000 non-null   datetime64[ns]\n",
      " 6   ActiveFlag    1000 non-null   float64       \n",
      " 7   SpecRevision  1000 non-null   object        \n",
      " 8   EventID       1000 non-null   float64       \n",
      " 9   EventDesc     1000 non-null   object        \n",
      " 10  4280          511 non-null    float32       \n",
      " 11  4290          511 non-null    float32       \n",
      " 12  1404          489 non-null    float32       \n",
      " 13  1405          489 non-null    float32       \n",
      " 14  3223          489 non-null    float32       \n",
      " 15  1412          489 non-null    float32       \n",
      " 16  1413          489 non-null    float32       \n",
      " 17  1400          489 non-null    float32       \n",
      " 18  1401          489 non-null    float32       \n",
      " 19  1763          489 non-null    float32       \n",
      " 20  1765          489 non-null    float32       \n",
      " 21  1352          489 non-null    float32       \n",
      " 22  1353          489 non-null    float32       \n",
      " 23  1771          489 non-null    float32       \n",
      " 24  1775          489 non-null    float32       \n",
      " 25  6603          511 non-null    float32       \n",
      " 26  6611          511 non-null    float32       \n",
      " 27  6607          511 non-null    float32       \n",
      " 28  6615          511 non-null    float32       \n",
      " 29  1502          489 non-null    float32       \n",
      " 30  1503          489 non-null    float32       \n",
      " 31  4628          511 non-null    float32       \n",
      " 32  4629          511 non-null    float32       \n",
      " 33  6641          511 non-null    float32       \n",
      " 34  16009         0 non-null      float32       \n",
      " 35  16058         0 non-null      float32       \n",
      " 36  6640          511 non-null    float32       \n",
      " 37  16008         0 non-null      float32       \n",
      " 38  16057         0 non-null      float32       \n",
      " 39  6636          511 non-null    float32       \n",
      " 40  16004         0 non-null      float32       \n",
      " 41  16053         0 non-null      float32       \n",
      " 42  6637          511 non-null    float32       \n",
      " 43  16005         0 non-null      float32       \n",
      " 44  16054         0 non-null      float32       \n",
      " 45  6666          511 non-null    float32       \n",
      " 46  16034         0 non-null      float32       \n",
      " 47  16132         0 non-null      float32       \n",
      " 48  1760          489 non-null    float32       \n",
      " 49  1759          489 non-null    float32       \n",
      " 50  1755          489 non-null    float32       \n",
      " 51  1756          489 non-null    float32       \n",
      " 52  1500          489 non-null    float32       \n",
      " 53  1501          489 non-null    float32       \n",
      " 54  4204          511 non-null    float32       \n",
      " 55  1785          489 non-null    float32       \n",
      " 56  4205          511 non-null    float32       \n",
      " 57  1764          489 non-null    float32       \n",
      " 58  1766          489 non-null    float32       \n",
      "dtypes: datetime64[ns](1), float32(49), float64(2), object(7)\n",
      "memory usage: 269.7+ KB\n"
     ]
    }
   ],
   "source": [
    "combined_df.info()"
   ]
  },
  {
   "cell_type": "code",
   "execution_count": null,
   "id": "001395d7-1eae-404c-88b4-b7a7b25c3692",
   "metadata": {},
   "outputs": [],
   "source": []
  }
 ],
 "metadata": {
  "kernelspec": {
   "display_name": "Python 3 (ipykernel)",
   "language": "python",
   "name": "python3"
  },
  "language_info": {
   "codemirror_mode": {
    "name": "ipython",
    "version": 3
   },
   "file_extension": ".py",
   "mimetype": "text/x-python",
   "name": "python",
   "nbconvert_exporter": "python",
   "pygments_lexer": "ipython3",
   "version": "3.10.14"
  }
 },
 "nbformat": 4,
 "nbformat_minor": 5
}
